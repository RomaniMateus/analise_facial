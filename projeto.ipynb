{
 "cells": [
  {
   "cell_type": "code",
   "id": "initial_id",
   "metadata": {
    "collapsed": true,
    "ExecuteTime": {
     "end_time": "2024-04-23T13:41:36.830169Z",
     "start_time": "2024-04-23T13:41:36.825265Z"
    }
   },
   "source": [
    "import cv2 as cv\n",
    "import mediapipe as mp"
   ],
   "outputs": [],
   "execution_count": 4
  },
  {
   "metadata": {
    "ExecuteTime": {
     "end_time": "2024-04-23T13:44:51.100891Z",
     "start_time": "2024-04-23T13:44:44.532558Z"
    }
   },
   "cell_type": "code",
   "source": [
    "mp_drawing = mp.solutions.drawing_utils\n",
    "mp_face_mesh = mp.solutions.face_mesh\n",
    "\n",
    "cap = cv.VideoCapture(0)\n",
    "\n",
    "with mp_face_mesh.FaceMesh(\n",
    "    min_detection_confidence=0.5,\n",
    "    min_tracking_confidence=0.5) as face_mesh:\n",
    "    while cap.isOpened():\n",
    "        ret, frame = cap.read()\n",
    "        if not ret:\n",
    "            print(\"Ignoring empty camera frame.\")\n",
    "            continue\n",
    "\n",
    "        frame = cv.cvtColor(cv.flip(frame, 1), cv.COLOR_BGR2RGB)\n",
    "        results = face_mesh.process(frame)\n",
    "\n",
    "        frame = cv.cvtColor(frame, cv.COLOR_RGB2BGR)\n",
    "        \n",
    "        if results.multi_face_landmarks:\n",
    "            for face_landmarks in results.multi_face_landmarks:\n",
    "                mp_drawing.draw_landmarks(\n",
    "                    image=frame,\n",
    "                    landmark_list=face_landmarks,\n",
    "                    connections=mp_face_mesh.FACEMESH_CONTOURS,\n",
    "                )\n",
    "        cv.imshow('MediaPipe FaceMesh', frame)\n",
    "        if cv.waitKey(5) & 0xFF == ord('q'):\n",
    "            break   \n",
    "\n",
    "cap.release()\n",
    "cv.destroyAllWindows()"
   ],
   "id": "13e9979314dc1bf",
   "outputs": [],
   "execution_count": 9
  }
 ],
 "metadata": {
  "kernelspec": {
   "display_name": "Python 3",
   "language": "python",
   "name": "python3"
  },
  "language_info": {
   "codemirror_mode": {
    "name": "ipython",
    "version": 2
   },
   "file_extension": ".py",
   "mimetype": "text/x-python",
   "name": "python",
   "nbconvert_exporter": "python",
   "pygments_lexer": "ipython2",
   "version": "2.7.6"
  }
 },
 "nbformat": 4,
 "nbformat_minor": 5
}
